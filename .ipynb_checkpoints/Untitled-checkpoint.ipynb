{
 "cells": [
  {
   "cell_type": "markdown",
   "metadata": {},
   "source": [
    "## Dataset selection\n",
    "\n",
    "I selected the dataset \"Fruit and Vegetable Image Recognition\" from https://www.kaggle.com/kritikseth/fruit-and-vegetable-image-recognition. It contains 36 classes and 4000+ images. The problem I am solving is to correctly classify fruits and vegetables based on the training data."
   ]
  },
  {
   "cell_type": "markdown",
   "metadata": {},
   "source": [
    "## CNN Implementation"
   ]
  },
  {
   "cell_type": "code",
   "execution_count": 1,
   "metadata": {},
   "outputs": [],
   "source": [
    "import tensorflow as tf\n",
    "\n",
    "from tensorflow.keras import datasets, layers, models\n",
    "import matplotlib.pyplot as plt"
   ]
  },
  {
   "cell_type": "code",
   "execution_count": null,
   "metadata": {},
   "outputs": [],
   "source": [
    "import os\n",
    "import cv2\n",
    "\n",
    "classes = os.listdir('./archive/test')\n",
    "test, train, valid = [], [], []\n",
    "for root, directories, files in os.walk('./archive', topdown=False):\n",
    "    #print(root, directories)\n",
    "    c = root.split('/')[-1]\n",
    "    s = root.split('/')[2]\n",
    "    print(c, s)\n",
    "    for name in files:\n",
    "        im = cv2.imread(os.path.join(root, name))\n"
   ]
  },
  {
   "cell_type": "code",
   "execution_count": 4,
   "metadata": {},
   "outputs": [],
   "source": []
  },
  {
   "cell_type": "code",
   "execution_count": null,
   "metadata": {},
   "outputs": [],
   "source": []
  }
 ],
 "metadata": {
  "kernelspec": {
   "display_name": "Python 3",
   "language": "python",
   "name": "python3"
  },
  "language_info": {
   "codemirror_mode": {
    "name": "ipython",
    "version": 3
   },
   "file_extension": ".py",
   "mimetype": "text/x-python",
   "name": "python",
   "nbconvert_exporter": "python",
   "pygments_lexer": "ipython3",
   "version": "3.8.10"
  }
 },
 "nbformat": 4,
 "nbformat_minor": 4
}
